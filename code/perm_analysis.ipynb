{
 "cells": [
  {
   "cell_type": "raw",
   "id": "4ca27e20-643f-4e33-b8fb-750ac500b5fb",
   "metadata": {},
   "source": [
    "---\n",
    "author: Paschalis Agapitos\n",
    "linkedin: https://www.linkedin.com/in/paschalis-agapitos-1b5284217/\n",
    "title: Permutation Analysis to detect important features\n",
    "---"
   ]
  },
  {
   "cell_type": "markdown",
   "id": "8f671cfc-14da-40e6-992e-bebe19ca615e",
   "metadata": {},
   "source": [
    "# Aim\n",
    "\n",
    "The aim of the following permutation analysis is to find which features are the most important for predicting the probability of someone being admitted.\n",
    "\n",
    "The main assumption is that not all features are equally important to the final result, thus performing a permutation analysis (see [Permutation Analysis](perm_analysis.ipynb#permutation-analysis)) beforehand will shed light to the most important features, thus it will allow us to reduce the number of features and consequently the complexity of the neural network."
   ]
  },
  {
   "cell_type": "code",
   "execution_count": 74,
   "id": "15f247af-09b0-4ed5-8745-b70b2a5b8964",
   "metadata": {},
   "outputs": [],
   "source": [
    "# import libraries\n",
    "from sklearn.preprocessing import PowerTransformer\n",
    "from sklearn.ensemble import RandomForestRegressor\n",
    "from sklearn.inspection import permutation_importance\n",
    "from sklearn.model_selection import train_test_split\n",
    "\n",
    "import pandas as pd\n",
    "\n",
    "import matplotlib.pyplot as plt\n",
    "import seaborn as sns"
   ]
  },
  {
   "cell_type": "code",
   "execution_count": 75,
   "id": "382bcf5c-df71-4576-9e58-e92993f9bfb0",
   "metadata": {},
   "outputs": [
    {
     "data": {
      "text/plain": [
       "Serial No.              int64\n",
       "GRE Score               int64\n",
       "TOEFL Score             int64\n",
       "University Rating       int64\n",
       "SOP                   float64\n",
       "LOR                   float64\n",
       "CGPA                  float64\n",
       "Research             category\n",
       "Chance of Admit       float64\n",
       "dtype: object"
      ]
     },
     "execution_count": 75,
     "metadata": {},
     "output_type": "execute_result"
    }
   ],
   "source": [
    "dtypes_dict = {\n",
    "    'Serial No.' : int,\n",
    "    'GRE Score' : int,\n",
    "    'TOEFL Score' : int,\n",
    "    'University Rating' : int,\n",
    "    'SOP' : float,\n",
    "    'LOR' : float,\n",
    "    'CGPA' : float,\n",
    "    'Research' : int,\n",
    "    'Chance of Admit' : float\n",
    "}\n",
    "admissions_data = pd.read_csv(\"admissions_data.csv\", encoding='utf-8', dtype=dtypes_dict)\n",
    "\n",
    "# \"Research\" seems to be categorical\n",
    "admissions_data[\"Research\"] = admissions_data[\"Research\"].astype('category')\n",
    "admissions_data.dtypes"
   ]
  },
  {
   "cell_type": "code",
   "execution_count": 76,
   "id": "a23f5066-3efb-4761-aa6e-36cdb78e5119",
   "metadata": {},
   "outputs": [
    {
     "data": {
      "text/html": [
       "<div>\n",
       "<style scoped>\n",
       "    .dataframe tbody tr th:only-of-type {\n",
       "        vertical-align: middle;\n",
       "    }\n",
       "\n",
       "    .dataframe tbody tr th {\n",
       "        vertical-align: top;\n",
       "    }\n",
       "\n",
       "    .dataframe thead th {\n",
       "        text-align: right;\n",
       "    }\n",
       "</style>\n",
       "<table border=\"1\" class=\"dataframe\">\n",
       "  <thead>\n",
       "    <tr style=\"text-align: right;\">\n",
       "      <th></th>\n",
       "      <th>Serial No.</th>\n",
       "      <th>GRE Score</th>\n",
       "      <th>TOEFL Score</th>\n",
       "      <th>University Rating</th>\n",
       "      <th>SOP</th>\n",
       "      <th>LOR</th>\n",
       "      <th>CGPA</th>\n",
       "      <th>Research</th>\n",
       "      <th>Chance of Admit</th>\n",
       "    </tr>\n",
       "  </thead>\n",
       "  <tbody>\n",
       "    <tr>\n",
       "      <th>329</th>\n",
       "      <td>330</td>\n",
       "      <td>297</td>\n",
       "      <td>96</td>\n",
       "      <td>2</td>\n",
       "      <td>2.5</td>\n",
       "      <td>1.5</td>\n",
       "      <td>7.89</td>\n",
       "      <td>0</td>\n",
       "      <td>0.43</td>\n",
       "    </tr>\n",
       "    <tr>\n",
       "      <th>471</th>\n",
       "      <td>472</td>\n",
       "      <td>311</td>\n",
       "      <td>103</td>\n",
       "      <td>3</td>\n",
       "      <td>2.0</td>\n",
       "      <td>4.0</td>\n",
       "      <td>8.09</td>\n",
       "      <td>0</td>\n",
       "      <td>0.64</td>\n",
       "    </tr>\n",
       "    <tr>\n",
       "      <th>467</th>\n",
       "      <td>468</td>\n",
       "      <td>318</td>\n",
       "      <td>101</td>\n",
       "      <td>5</td>\n",
       "      <td>3.5</td>\n",
       "      <td>5.0</td>\n",
       "      <td>8.78</td>\n",
       "      <td>1</td>\n",
       "      <td>0.78</td>\n",
       "    </tr>\n",
       "    <tr>\n",
       "      <th>411</th>\n",
       "      <td>412</td>\n",
       "      <td>313</td>\n",
       "      <td>94</td>\n",
       "      <td>2</td>\n",
       "      <td>2.5</td>\n",
       "      <td>1.5</td>\n",
       "      <td>8.13</td>\n",
       "      <td>0</td>\n",
       "      <td>0.56</td>\n",
       "    </tr>\n",
       "    <tr>\n",
       "      <th>487</th>\n",
       "      <td>488</td>\n",
       "      <td>327</td>\n",
       "      <td>115</td>\n",
       "      <td>4</td>\n",
       "      <td>3.5</td>\n",
       "      <td>4.0</td>\n",
       "      <td>9.14</td>\n",
       "      <td>0</td>\n",
       "      <td>0.79</td>\n",
       "    </tr>\n",
       "  </tbody>\n",
       "</table>\n",
       "</div>"
      ],
      "text/plain": [
       "     Serial No.  GRE Score  TOEFL Score  University Rating  SOP  LOR   CGPA  \\\n",
       "329         330        297           96                  2  2.5   1.5  7.89   \n",
       "471         472        311          103                  3  2.0   4.0  8.09   \n",
       "467         468        318          101                  5  3.5   5.0  8.78   \n",
       "411         412        313           94                  2  2.5   1.5  8.13   \n",
       "487         488        327          115                  4  3.5   4.0  9.14   \n",
       "\n",
       "    Research  Chance of Admit   \n",
       "329        0              0.43  \n",
       "471        0              0.64  \n",
       "467        1              0.78  \n",
       "411        0              0.56  \n",
       "487        0              0.79  "
      ]
     },
     "execution_count": 76,
     "metadata": {},
     "output_type": "execute_result"
    }
   ],
   "source": [
    "admissions_data.sample(5)"
   ]
  },
  {
   "cell_type": "markdown",
   "id": "c49cc4f4-ba40-4b50-86af-d17dab6da18a",
   "metadata": {},
   "source": [
    "# Permutation Analysis\n",
    "<a id='#permutation-analysis'></a>\n",
    "It is a model inspection technique that measures the contribution of each feature to a fitted model's statistical performance on a given tabular dataset.\n",
    "This technique is particularly useful for non-linear or opaque estimators (i.e., an object that manages estimation and decoding of a model) and involves random shuffling the values of a single feature and observing the resulting degradation of the model's score. The intuition behind this analysis is that by breaking the relationship between the predictor and the target variable, we can determine how much the model relies on such particular feature.\n",
    "\n",
    "Permutation importance measures how much the model performance decreases when the values of a feature are randomly shuffled. A larger decrease in performance indicates that the feature is more important for the model.\n",
    "\n",
    "Permutation importance is model-agnostic, meaning it can be applied to any type of predictive model. However, complex models might have more nuanced interpretations due to interactions among features."
   ]
  },
  {
   "cell_type": "code",
   "execution_count": 81,
   "id": "d0a74c5f-418c-424c-aba8-d39cec49347a",
   "metadata": {},
   "outputs": [
    {
     "data": {
      "text/html": [
       "<div>\n",
       "<style scoped>\n",
       "    .dataframe tbody tr th:only-of-type {\n",
       "        vertical-align: middle;\n",
       "    }\n",
       "\n",
       "    .dataframe tbody tr th {\n",
       "        vertical-align: top;\n",
       "    }\n",
       "\n",
       "    .dataframe thead th {\n",
       "        text-align: right;\n",
       "    }\n",
       "</style>\n",
       "<table border=\"1\" class=\"dataframe\">\n",
       "  <thead>\n",
       "    <tr style=\"text-align: right;\">\n",
       "      <th></th>\n",
       "      <th>Feature</th>\n",
       "      <th>Importance</th>\n",
       "      <th>Importance_std</th>\n",
       "    </tr>\n",
       "  </thead>\n",
       "  <tbody>\n",
       "    <tr>\n",
       "      <th>5</th>\n",
       "      <td>CGPA</td>\n",
       "      <td>0.806137</td>\n",
       "      <td>0.111436</td>\n",
       "    </tr>\n",
       "    <tr>\n",
       "      <th>0</th>\n",
       "      <td>GRE Score</td>\n",
       "      <td>0.033150</td>\n",
       "      <td>0.021972</td>\n",
       "    </tr>\n",
       "    <tr>\n",
       "      <th>3</th>\n",
       "      <td>SOP</td>\n",
       "      <td>0.020930</td>\n",
       "      <td>0.011529</td>\n",
       "    </tr>\n",
       "    <tr>\n",
       "      <th>6</th>\n",
       "      <td>Research</td>\n",
       "      <td>0.014922</td>\n",
       "      <td>0.011625</td>\n",
       "    </tr>\n",
       "    <tr>\n",
       "      <th>4</th>\n",
       "      <td>LOR</td>\n",
       "      <td>0.008711</td>\n",
       "      <td>0.008034</td>\n",
       "    </tr>\n",
       "    <tr>\n",
       "      <th>2</th>\n",
       "      <td>University Rating</td>\n",
       "      <td>0.007895</td>\n",
       "      <td>0.004898</td>\n",
       "    </tr>\n",
       "    <tr>\n",
       "      <th>1</th>\n",
       "      <td>TOEFL Score</td>\n",
       "      <td>0.005063</td>\n",
       "      <td>0.008558</td>\n",
       "    </tr>\n",
       "  </tbody>\n",
       "</table>\n",
       "</div>"
      ],
      "text/plain": [
       "             Feature  Importance  Importance_std\n",
       "5               CGPA    0.806137        0.111436\n",
       "0          GRE Score    0.033150        0.021972\n",
       "3                SOP    0.020930        0.011529\n",
       "6           Research    0.014922        0.011625\n",
       "4               LOR     0.008711        0.008034\n",
       "2  University Rating    0.007895        0.004898\n",
       "1        TOEFL Score    0.005063        0.008558"
      ]
     },
     "execution_count": 81,
     "metadata": {},
     "output_type": "execute_result"
    }
   ],
   "source": [
    "# split the data into training and testing sets\n",
    "X_train, X_test, y_train, y_test = train_test_split(features, target, test_size=0.2, random_state=42)\n",
    "\n",
    "# transform the feature columns\n",
    "scaler = PowerTransformer() # stabilises variance, normal-like distribution, heteroscedasticity\n",
    "X_train_normalized = scaler.fit_transform(X_train)\n",
    "X_test_normalized = scaler.transform(X_test)\n",
    "\n",
    "# fit Random Forest model on the training data\n",
    "model = RandomForestRegressor(random_state=42)\n",
    "model.fit(X_train_normalized, y_train)\n",
    "\n",
    "# calculate permutation feature importance\n",
    "# increase number of repeats for more robust results (1000 is more than enough)\n",
    "result = permutation_importance(model, X_test_normalized, y_test, n_repeats=1000, random_state=42)\n",
    "\n",
    "importance_df = pd.DataFrame({\n",
    "    'Feature': features.columns,\n",
    "    'Importance': result.importances_mean,\n",
    "    'Importance_std' : result.importances_std\n",
    "}).sort_values(by='Importance', ascending=False)\n",
    "\n",
    "importance_df"
   ]
  },
  {
   "cell_type": "code",
   "execution_count": 78,
   "id": "c42fe8a7-54fd-4bb1-9ad2-27e7cfac60ce",
   "metadata": {},
   "outputs": [
    {
     "name": "stdout",
     "output_type": "stream",
     "text": [
      "'CGPA                 0.806 +/- 0.111'\n",
      "'GRE Score            0.033 +/- 0.022'\n",
      "'SOP                  0.021 +/- 0.012'\n",
      "'Research             0.015 +/- 0.012'\n",
      "'LOR                  0.009 +/- 0.008'\n",
      "'University Rating    0.008 +/- 0.005'\n",
      "'TOEFL Score          0.005 +/- 0.009'\n"
     ]
    }
   ],
   "source": [
    "import pprint\n",
    "for i in importance_df.index:\n",
    "    feature_name = importance_df.at[i, 'Feature']\n",
    "    importance_mean = importance_df.at[i, 'Importance']\n",
    "    importance_std = importance_df.at[i, 'Importance_std']\n",
    "    pprint.pprint(f\"{feature_name:<20} {importance_mean:.3f} +/- {importance_std:.3f}\")"
   ]
  },
  {
   "cell_type": "markdown",
   "id": "66896d6d-1933-46e0-8fd7-91929e1eaac8",
   "metadata": {},
   "source": [
    "# Conclusions\n",
    "The results from the permutation analysis provide insights into the relative importance of different features in predicting the outcome, likely related to admission success in this context. Based on the analysis, it appears that CGPA (Cumulative Grade Point Average) is the most influential predictor, with a mean importance score of 0.806 and a standard deviation of 0.111. This indicates that variations in CGPA have a substantial impact on the predicted outcome. Following CGPA, the GRE Score also shows significant importance, although to a much lesser extent with a mean score of 0.033 and a standard deviation of 0.022. SOP (Statement of Purpose), Research experience, and LOR (Letter of Recommendation) also contribute positively to the prediction, albeit with smaller mean importance scores ranging from 0.021 to 0.009 and associated standard deviations. University Rating and TOEFL Score, on the other hand, appear to have relatively minor impacts, each with mean scores of 0.008 and 0.005, respectively, and similarly low standard deviations. These findings suggest that while all features contribute to the predictive model, CGPA and GRE Score carry the most weight in determining the predicted outcome in this analysis.\n",
    "\n",
    "The results of the permutation analysis above show that `CGPA` is a very important feature since the model relies heavily on it to make predictions. As mentioned earlier, the fact that the model relies heavily on that it means that during the permutation analysis when the relationship between the prediction and the output got broken, the model underperformed.\n",
    "Therefore for the neural network we will take into account only the first 4 features. We could even reduce to `CGPA` since it is the most important features, but just for the sake of plurality we use `CGPA`, `GRE Score`, `SOP`, `Research`."
   ]
  },
  {
   "cell_type": "markdown",
   "id": "f1712f2d-1f84-4788-ac61-79b7160ad157",
   "metadata": {},
   "source": [
    "# Further Reading\n",
    "> https://scikit-learn.org/stable/modules/permutation_importance.html\n",
    "\n",
    "> https://scikit-learn.org/stable/modules/preprocessing.html#yeo-johnson-transform\n",
    "\n",
    "> https://academic.oup.com/jrsssb/article-abstract/26/2/211/7028064?redirectedFrom=fulltext&login=false\n",
    "\n",
    "> https://www.jwilber.me/permutationtest/ "
   ]
  }
 ],
 "metadata": {
  "kernelspec": {
   "display_name": "Python 3 (ipykernel)",
   "language": "python",
   "name": "python3"
  },
  "language_info": {
   "codemirror_mode": {
    "name": "ipython",
    "version": 3
   },
   "file_extension": ".py",
   "mimetype": "text/x-python",
   "name": "python",
   "nbconvert_exporter": "python",
   "pygments_lexer": "ipython3",
   "version": "3.9.19"
  }
 },
 "nbformat": 4,
 "nbformat_minor": 5
}
